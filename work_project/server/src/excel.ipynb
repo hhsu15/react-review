{
 "cells": [
  {
   "cell_type": "code",
   "execution_count": 1,
   "id": "77f512a0",
   "metadata": {},
   "outputs": [
    {
     "name": "stdout",
     "output_type": "stream",
     "text": [
      "Collecting openpyxl\n",
      "  Using cached openpyxl-3.0.10-py2.py3-none-any.whl (242 kB)\n",
      "Collecting et-xmlfile\n",
      "  Using cached et_xmlfile-1.1.0-py3-none-any.whl (4.7 kB)\n",
      "Installing collected packages: et-xmlfile, openpyxl\n",
      "Successfully installed et-xmlfile-1.1.0 openpyxl-3.0.10\n",
      "\u001b[33mWARNING: You are using pip version 22.0.4; however, version 22.3.1 is available.\n",
      "You should consider upgrading via the '/Users/hsin/git/react_review/work_project/server/env/bin/python -m pip install --upgrade pip' command.\u001b[0m\u001b[33m\n",
      "\u001b[0m"
     ]
    }
   ],
   "source": [
    "!pip install openpyxl"
   ]
  },
  {
   "cell_type": "code",
   "execution_count": 2,
   "id": "6c26a99f",
   "metadata": {},
   "outputs": [],
   "source": [
    "import openpyxl"
   ]
  },
  {
   "cell_type": "code",
   "execution_count": 20,
   "id": "4848ef41",
   "metadata": {},
   "outputs": [],
   "source": [
    "import json\n",
    "with open(\"./assets/diff_result.json\") as f:\n",
    "    content = json.load(f)"
   ]
  },
  {
   "cell_type": "code",
   "execution_count": 21,
   "id": "071acb70",
   "metadata": {},
   "outputs": [],
   "source": [
    "import pandas as pd\n",
    "data = content['value_diff']\n",
    "data_to_list = []\n",
    "for k, v in data.items():\n",
    "    for item in v:\n",
    "        item['Cons_Code'] = k[:6]\n",
    "        item['SEDOL'] = k[6:]\n",
    "        data_to_list.append(item)\n",
    "    "
   ]
  },
  {
   "cell_type": "code",
   "execution_count": 43,
   "id": "3afb53a6",
   "metadata": {},
   "outputs": [],
   "source": [
    "df = pd.DataFrame(data_to_list)"
   ]
  },
  {
   "cell_type": "code",
   "execution_count": 47,
   "id": "21058920",
   "metadata": {},
   "outputs": [],
   "source": [
    "tmp_df = df[['Cons_Code', 'SEDOL']]\n"
   ]
  },
  {
   "cell_type": "code",
   "execution_count": 50,
   "id": "feec284d",
   "metadata": {
    "scrolled": true
   },
   "outputs": [],
   "source": [
    "\n",
    "new_df = df.loc[:, ~df.columns.isin(['Cons_Code', 'SEDOL'])]"
   ]
  },
  {
   "cell_type": "code",
   "execution_count": 52,
   "id": "03933a81",
   "metadata": {},
   "outputs": [
    {
     "data": {
      "text/html": [
       "<div>\n",
       "<style scoped>\n",
       "    .dataframe tbody tr th:only-of-type {\n",
       "        vertical-align: middle;\n",
       "    }\n",
       "\n",
       "    .dataframe tbody tr th {\n",
       "        vertical-align: top;\n",
       "    }\n",
       "\n",
       "    .dataframe thead th {\n",
       "        text-align: right;\n",
       "    }\n",
       "</style>\n",
       "<table border=\"1\" class=\"dataframe\">\n",
       "  <thead>\n",
       "    <tr style=\"text-align: right;\">\n",
       "      <th></th>\n",
       "      <th>comlumn_name</th>\n",
       "      <th>base_value</th>\n",
       "      <th>comp_value</th>\n",
       "      <th>val_type</th>\n",
       "      <th>change_by_ratio</th>\n",
       "      <th>Cons_Code</th>\n",
       "      <th>SEDOL</th>\n",
       "    </tr>\n",
       "  </thead>\n",
       "  <tbody>\n",
       "    <tr>\n",
       "      <th>0</th>\n",
       "      <td>Price</td>\n",
       "      <td>172.24</td>\n",
       "      <td>164.5</td>\n",
       "      <td>measure</td>\n",
       "      <td>0.0449</td>\n",
       "      <td>C01541</td>\n",
       "      <td>3134865</td>\n",
       "    </tr>\n",
       "    <tr>\n",
       "      <th>1</th>\n",
       "      <td>Dividend Yield</td>\n",
       "      <td>3.63%</td>\n",
       "      <td>3.80%</td>\n",
       "      <td>percent</td>\n",
       "      <td>-0.0468</td>\n",
       "      <td>C01541</td>\n",
       "      <td>3134865</td>\n",
       "    </tr>\n",
       "    <tr>\n",
       "      <th>2</th>\n",
       "      <td>Mkt Cap (USD) before investibility weight</td>\n",
       "      <td>3.2046e+10</td>\n",
       "      <td>3.10056e+10</td>\n",
       "      <td>measure</td>\n",
       "      <td>0.0325</td>\n",
       "      <td>C01541</td>\n",
       "      <td>3134865</td>\n",
       "    </tr>\n",
       "    <tr>\n",
       "      <th>3</th>\n",
       "      <td>Mkt Cap (USD) after investibility weight</td>\n",
       "      <td>3.19201e+10</td>\n",
       "      <td>3.08837e+10</td>\n",
       "      <td>measure</td>\n",
       "      <td>0.0325</td>\n",
       "      <td>C01541</td>\n",
       "      <td>3134865</td>\n",
       "    </tr>\n",
       "    <tr>\n",
       "      <th>4</th>\n",
       "      <td>%Wt Country</td>\n",
       "      <td>1.22%</td>\n",
       "      <td>1.16%</td>\n",
       "      <td>percent</td>\n",
       "      <td>0.0492</td>\n",
       "      <td>C01541</td>\n",
       "      <td>3134865</td>\n",
       "    </tr>\n",
       "    <tr>\n",
       "      <th>...</th>\n",
       "      <td>...</td>\n",
       "      <td>...</td>\n",
       "      <td>...</td>\n",
       "      <td>...</td>\n",
       "      <td>...</td>\n",
       "      <td>...</td>\n",
       "      <td>...</td>\n",
       "    </tr>\n",
       "    <tr>\n",
       "      <th>3218</th>\n",
       "      <td>Mkt Cap (USD) before investibility weight</td>\n",
       "      <td>1.30003e+08</td>\n",
       "      <td>1.42462e+08</td>\n",
       "      <td>measure</td>\n",
       "      <td>-0.0958</td>\n",
       "      <td>C99673</td>\n",
       "      <td>BF5SGF0</td>\n",
       "    </tr>\n",
       "    <tr>\n",
       "      <th>3219</th>\n",
       "      <td>Mkt Cap (USD) after investibility weight</td>\n",
       "      <td>1.24028e+08</td>\n",
       "      <td>1.35914e+08</td>\n",
       "      <td>measure</td>\n",
       "      <td>-0.0958</td>\n",
       "      <td>C99673</td>\n",
       "      <td>BF5SGF0</td>\n",
       "    </tr>\n",
       "    <tr>\n",
       "      <th>3220</th>\n",
       "      <td>%Wt Country</td>\n",
       "      <td>0.00%</td>\n",
       "      <td>0.01%</td>\n",
       "      <td>percent</td>\n",
       "      <td>NaN</td>\n",
       "      <td>C99673</td>\n",
       "      <td>BF5SGF0</td>\n",
       "    </tr>\n",
       "    <tr>\n",
       "      <th>3221</th>\n",
       "      <td>%Wt Industry</td>\n",
       "      <td>0.16%</td>\n",
       "      <td>0.17%</td>\n",
       "      <td>percent</td>\n",
       "      <td>-0.0625</td>\n",
       "      <td>C99673</td>\n",
       "      <td>BF5SGF0</td>\n",
       "    </tr>\n",
       "    <tr>\n",
       "      <th>3222</th>\n",
       "      <td>%Wt Sector</td>\n",
       "      <td>0.19%</td>\n",
       "      <td>0.20%</td>\n",
       "      <td>percent</td>\n",
       "      <td>-0.0526</td>\n",
       "      <td>C99673</td>\n",
       "      <td>BF5SGF0</td>\n",
       "    </tr>\n",
       "  </tbody>\n",
       "</table>\n",
       "<p>3223 rows × 7 columns</p>\n",
       "</div>"
      ],
      "text/plain": [
       "                                   comlumn_name   base_value   comp_value  \\\n",
       "0                                         Price       172.24        164.5   \n",
       "1                                Dividend Yield        3.63%        3.80%   \n",
       "2     Mkt Cap (USD) before investibility weight   3.2046e+10  3.10056e+10   \n",
       "3      Mkt Cap (USD) after investibility weight  3.19201e+10  3.08837e+10   \n",
       "4                                   %Wt Country        1.22%        1.16%   \n",
       "...                                         ...          ...          ...   \n",
       "3218  Mkt Cap (USD) before investibility weight  1.30003e+08  1.42462e+08   \n",
       "3219   Mkt Cap (USD) after investibility weight  1.24028e+08  1.35914e+08   \n",
       "3220                                %Wt Country        0.00%        0.01%   \n",
       "3221                               %Wt Industry        0.16%        0.17%   \n",
       "3222                                 %Wt Sector        0.19%        0.20%   \n",
       "\n",
       "     val_type  change_by_ratio Cons_Code    SEDOL  \n",
       "0     measure           0.0449    C01541  3134865  \n",
       "1     percent          -0.0468    C01541  3134865  \n",
       "2     measure           0.0325    C01541  3134865  \n",
       "3     measure           0.0325    C01541  3134865  \n",
       "4     percent           0.0492    C01541  3134865  \n",
       "...       ...              ...       ...      ...  \n",
       "3218  measure          -0.0958    C99673  BF5SGF0  \n",
       "3219  measure          -0.0958    C99673  BF5SGF0  \n",
       "3220  percent              NaN    C99673  BF5SGF0  \n",
       "3221  percent          -0.0625    C99673  BF5SGF0  \n",
       "3222  percent          -0.0526    C99673  BF5SGF0  \n",
       "\n",
       "[3223 rows x 7 columns]"
      ]
     },
     "execution_count": 52,
     "metadata": {},
     "output_type": "execute_result"
    }
   ],
   "source": [
    "df"
   ]
  },
  {
   "cell_type": "code",
   "execution_count": 84,
   "id": "84952c13",
   "metadata": {},
   "outputs": [],
   "source": [
    "from openpyxl.utils.dataframe import dataframe_to_rows"
   ]
  },
  {
   "cell_type": "code",
   "execution_count": 85,
   "id": "8a7c46b0",
   "metadata": {},
   "outputs": [],
   "source": [
    "wb = openpyxl.Workbook()\n",
    "ws = wb.active\n",
    "\n",
    "for r in dataframe_to_rows(df, index=False, header=True):\n",
    "    ws.append(r)"
   ]
  },
  {
   "cell_type": "code",
   "execution_count": 86,
   "id": "81c961ed",
   "metadata": {},
   "outputs": [],
   "source": [
    "ws.title = \"value_diff\""
   ]
  },
  {
   "cell_type": "code",
   "execution_count": 87,
   "id": "ace8477c",
   "metadata": {},
   "outputs": [
    {
     "data": {
      "text/plain": [
       "'3.63%'"
      ]
     },
     "execution_count": 87,
     "metadata": {},
     "output_type": "execute_result"
    }
   ],
   "source": [
    "ws[\"B3\"].value"
   ]
  },
  {
   "cell_type": "code",
   "execution_count": 83,
   "id": "5cf0dc1e",
   "metadata": {},
   "outputs": [],
   "source": [
    "# wb.save(\"my_excel.xlsx\")"
   ]
  },
  {
   "cell_type": "code",
   "execution_count": 88,
   "id": "b4234ebc",
   "metadata": {},
   "outputs": [
    {
     "data": {
      "text/plain": [
       "<Worksheet \"summary\">"
      ]
     },
     "execution_count": 88,
     "metadata": {},
     "output_type": "execute_result"
    }
   ],
   "source": [
    "wb.create_sheet(index=0, title=\"summary\")\n",
    "\n"
   ]
  },
  {
   "cell_type": "code",
   "execution_count": 94,
   "id": "37199c6d",
   "metadata": {},
   "outputs": [
    {
     "data": {
      "text/plain": [
       "<Worksheet \"more_sheet\">"
      ]
     },
     "execution_count": 94,
     "metadata": {},
     "output_type": "execute_result"
    }
   ],
   "source": [
    "wb.create_sheet(\"more_sheet\")"
   ]
  },
  {
   "cell_type": "code",
   "execution_count": 95,
   "id": "7dfded65",
   "metadata": {},
   "outputs": [
    {
     "data": {
      "text/plain": [
       "['summary', 'value_diff', 'more_sheet']"
      ]
     },
     "execution_count": 95,
     "metadata": {},
     "output_type": "execute_result"
    }
   ],
   "source": [
    "wb.sheetnames"
   ]
  },
  {
   "cell_type": "code",
   "execution_count": 91,
   "id": "a3d2ffe1",
   "metadata": {},
   "outputs": [
    {
     "data": {
      "text/plain": [
       "{'add': ['New'], 'delete': []}"
      ]
     },
     "execution_count": 91,
     "metadata": {},
     "output_type": "execute_result"
    }
   ],
   "source": [
    "content['col_diff']"
   ]
  },
  {
   "cell_type": "code",
   "execution_count": 92,
   "id": "578b05c5",
   "metadata": {},
   "outputs": [
    {
     "data": {
      "text/plain": [
       "{'add': [], 'delete': ['C178155BDD85M8', 'C33508575809']}"
      ]
     },
     "execution_count": 92,
     "metadata": {},
     "output_type": "execute_result"
    }
   ],
   "source": [
    "content['key_diff']"
   ]
  },
  {
   "cell_type": "markdown",
   "id": "4f4016af",
   "metadata": {},
   "source": [
    "# Worksheets\n",
    "\n",
    "1. value_diff: raw diff info that\n",
    "2. ID diffs: need to join the original data and produce this [{\"id\":\"ID123\", \"add/delete\": \"add\", \"attr1\": \"val\",...},...]\n",
    "3. Column diffs: same as above? [{\"column\": \"some_column\", \"add/delete\": \"delete\"...}] or this should be rare??\n",
    "\n"
   ]
  },
  {
   "cell_type": "code",
   "execution_count": null,
   "id": "b012c7e5",
   "metadata": {},
   "outputs": [],
   "source": [
    "id_diff = [i for i in content['key_diff']]\n",
    "\n"
   ]
  }
 ],
 "metadata": {
  "kernelspec": {
   "display_name": "Python 3.7.2 64-bit ('3.7.2': pyenv)",
   "language": "python",
   "name": "python37264bit372pyenv598c0904c91f42e8a121f9ab66f95843"
  },
  "language_info": {
   "codemirror_mode": {
    "name": "ipython",
    "version": 3
   },
   "file_extension": ".py",
   "mimetype": "text/x-python",
   "name": "python",
   "nbconvert_exporter": "python",
   "pygments_lexer": "ipython3",
   "version": "3.7.2"
  }
 },
 "nbformat": 4,
 "nbformat_minor": 5
}
